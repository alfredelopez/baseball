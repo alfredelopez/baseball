{
 "cells": [
  {
   "cell_type": "markdown",
   "metadata": {},
   "source": [
    "# Gather the Data"
   ]
  },
  {
   "cell_type": "markdown",
   "metadata": {},
   "source": [
    "Here is where I imported the original csv and modified them to fit my needs throughout the process. Whenever I needed to make furhter changed, this is where I would go to make such changes."
   ]
  },
  {
   "cell_type": "code",
   "execution_count": 1,
   "metadata": {},
   "outputs": [],
   "source": [
    "# imported pandas so that I could import and manipulate data on the base level.\n",
    "import pandas as pd"
   ]
  },
  {
   "cell_type": "code",
   "execution_count": 2,
   "metadata": {},
   "outputs": [],
   "source": [
    "# load player data\n",
    "# not individual stats, but personal info\n",
    "players = pd.read_csv('./data/People.csv')\n",
    "\n",
    "#load batting data\n",
    "batting = pd.read_csv('./data/Batting.csv')\n",
    "\n",
    "#load post season batting data\n",
    "batting_post = pd.read_csv('./data/BattingPost.csv')\n",
    "\n",
    "#load pitching data\n",
    "pitching = pd.read_csv('./data/Pitching.csv')\n",
    "\n",
    "#load post season pitching data\n",
    "pitching_post = pd.read_csv('./data/PitchingPost.csv')\n",
    "\n",
    "#load salary data\n",
    "salaries = pd.read_csv('./data/Salaries.csv')\n",
    "\n",
    "#load team data\n",
    "teams = pd.read_csv('./data/Teams.csv')\n",
    "\n",
    "#load fielding data\n",
    "fielding = pd.read_csv('./data/Fielding.csv')\n",
    "\n",
    "#load post season fielding data\n",
    "fielding_post = pd.read_csv('./data/FieldingPost.csv')"
   ]
  },
  {
   "cell_type": "code",
   "execution_count": 3,
   "metadata": {},
   "outputs": [],
   "source": [
    "#standardize column names\n",
    "batting.columns = map(str.lower, batting.columns)\n",
    "batting_post.columns = map(str.lower, batting_post.columns)\n",
    "pitching.columns = map(str.lower, pitching.columns)\n",
    "pitching_post.columns = map(str.lower, pitching_post.columns)\n",
    "salaries.columns = map(str.lower, salaries.columns)\n",
    "teams.columns = map(str.lower, teams.columns)\n",
    "fielding.columns = map(str.lower, fielding.columns)\n",
    "fielding_post.columns = map(str.lower, fielding_post.columns)\n",
    "players.columns = map(str.lower, players.columns)"
   ]
  },
  {
   "cell_type": "code",
   "execution_count": 4,
   "metadata": {},
   "outputs": [],
   "source": [
    "#rename 'yearid' column to year for ease\n",
    "batting.rename(columns={'yearid':'year'}, inplace=True)\n",
    "batting_post.rename(columns={'yearid':'year'}, inplace=True)\n",
    "pitching.rename(columns={'yearid': 'year'}, inplace=True)\n",
    "pitching_post.rename(columns={'yearid': 'year'}, inplace=True)\n",
    "salaries.rename(columns={'yearid': 'year'}, inplace=True)\n",
    "teams.rename(columns={'yearid': 'year'}, inplace=True)\n",
    "fielding.rename(columns={'yearid': 'year'}, inplace=True)\n",
    "fielding_post.rename(columns={'yearid':'year'}, inplace=True)"
   ]
  },
  {
   "cell_type": "code",
   "execution_count": 5,
   "metadata": {},
   "outputs": [],
   "source": [
    "# concat post and regular season stats to get a true value for career stats\n",
    "batting = pd.concat([batting, batting_post], join='inner')\n",
    "pitching = pd.concat([pitching, pitching_post], join='inner')\n",
    "fielding = pd.concat([fielding, fielding_post], join='inner')"
   ]
  },
  {
   "cell_type": "code",
   "execution_count": 6,
   "metadata": {},
   "outputs": [],
   "source": [
    "#use fillna() to replace NaN for years stat wasn't recorded\n",
    "#need to figure out a way to fix pitching data, since 0 will be beneficaial in a few cases\n",
    "batting.fillna(value=0, inplace=True)\n",
    "batting_post.fillna(value=0, inplace=True)\n",
    "pitching.fillna(value=0, inplace=True)\n",
    "pitching_post.fillna(value=0, inplace=True)\n",
    "teams.fillna(value=0, inplace=True)\n",
    "fielding.fillna(value=0, inplace=True)\n",
    "fielding_post.fillna(value=0, inplace=True)"
   ]
  },
  {
   "cell_type": "code",
   "execution_count": 7,
   "metadata": {},
   "outputs": [],
   "source": [
    "batting['period'] = batting['year']\n",
    "batting['period'].replace(range(1871,1901), 0, inplace=True)\n",
    "batting['period'].replace(range(1901,1920), 1, inplace=True)\n",
    "batting['period'].replace(range(1920, 1942), 2, inplace=True)\n",
    "batting['period'].replace(range(1942, 1961), 3, inplace=True)\n",
    "batting['period'].replace(range(1961, 1977), 4, inplace=True)\n",
    "batting['period'].replace(range(1977, 1994), 5, inplace=True)\n",
    "batting['period'].replace(range(1994, 2006), 6, inplace=True)\n",
    "batting['period'].replace(range(2006, 2018), 7, inplace=True)"
   ]
  },
  {
   "cell_type": "code",
   "execution_count": 8,
   "metadata": {},
   "outputs": [],
   "source": [
    "pitching['period'] = pitching['year']\n",
    "pitching['period'].replace(range(1871, 1901), 0, inplace=True)\n",
    "pitching['period'].replace(range(1901, 1920), 1, inplace=True)\n",
    "pitching['period'].replace(range(1920, 1942), 2, inplace=True)\n",
    "pitching['period'].replace(range(1942, 1961), 3, inplace=True)\n",
    "pitching['period'].replace(range(1961, 1977), 4, inplace=True)\n",
    "pitching['period'].replace(range(1977, 1994), 5, inplace=True)\n",
    "pitching['period'].replace(range(1994, 2006), 6, inplace=True)\n",
    "pitching['period'].replace(range(2006, 2018), 7, inplace=True)"
   ]
  },
  {
   "cell_type": "code",
   "execution_count": 9,
   "metadata": {},
   "outputs": [],
   "source": [
    "fielding['period'] = fielding['year']\n",
    "fielding['period'].replace(range(1871, 1901), 0, inplace=True)\n",
    "fielding['period'].replace(range(1901, 1920), 1, inplace=True)\n",
    "fielding['period'].replace(range(1920, 1942), 2, inplace=True)\n",
    "fielding['period'].replace(range(1942, 1961), 3, inplace=True)\n",
    "fielding['period'].replace(range(1961, 1977), 4, inplace=True)\n",
    "fielding['period'].replace(range(1977, 1994), 5, inplace=True)\n",
    "fielding['period'].replace(range(1994, 2006), 6, inplace=True)\n",
    "fielding['period'].replace(range(2006, 2018), 7, inplace=True)"
   ]
  },
  {
   "cell_type": "code",
   "execution_count": 10,
   "metadata": {},
   "outputs": [],
   "source": [
    "#remove player with fewer than 100 at bats for a given year\n",
    "# will need to re-evaluate number later\n",
    "batting = batting[batting['ab'] >= 100]"
   ]
  },
  {
   "cell_type": "code",
   "execution_count": 11,
   "metadata": {},
   "outputs": [],
   "source": [
    "# remove players with fewer than 10 game appearances for a given year\n",
    "# again, will need to re-evaluate number later\n",
    "pitching = pitching[pitching['g'] >= 10]"
   ]
  },
  {
   "cell_type": "code",
   "execution_count": 12,
   "metadata": {},
   "outputs": [],
   "source": [
    "# remove players with fewer than 20 outfield appearances for a given year\n",
    "# will need to re-evalute later for seasons with less than 162 games.\n",
    "fielding = fielding[fielding['g'] >= 20]"
   ]
  },
  {
   "cell_type": "code",
   "execution_count": 13,
   "metadata": {},
   "outputs": [],
   "source": [
    "# create batting average column\n",
    "# I used basic batting average formula\n",
    "batting['bavg'] = batting['h']/batting['ab']"
   ]
  },
  {
   "cell_type": "code",
   "execution_count": 14,
   "metadata": {},
   "outputs": [],
   "source": [
    "# create on base percentage column\n",
    "batting['obp'] = (batting['h']+batting['bb']+batting['hbp']) / (batting['ab']+batting['bb']+batting['hbp']+batting['sf'])"
   ]
  },
  {
   "cell_type": "code",
   "execution_count": 15,
   "metadata": {},
   "outputs": [],
   "source": [
    "# create singles column\n",
    "batting['1b'] = batting['h']-(batting['2b']+batting['3b']+batting['hr'])"
   ]
  },
  {
   "cell_type": "code",
   "execution_count": 16,
   "metadata": {},
   "outputs": [],
   "source": [
    "# create slugging percentage column\n",
    "batting['slg'] = (batting['1b']+(2*batting['2b'])+(3*batting['3b'])+(4*batting['hr'])) / batting['ab']"
   ]
  },
  {
   "cell_type": "code",
   "execution_count": 17,
   "metadata": {},
   "outputs": [],
   "source": [
    "# create on base plus slugging column\n",
    "batting['ops'] = batting['obp']+batting['slg']"
   ]
  },
  {
   "cell_type": "code",
   "execution_count": 18,
   "metadata": {},
   "outputs": [],
   "source": [
    "# created estimated pitch count column to see trends over time\n",
    "# this is an estimate used from metrics found elsewhere\n",
    "# not an offical stat until 1954\n",
    "pitching['est_pc'] = 3 * (pitching['h'] + (4 * pitching['bb']) + (3 * pitching['so']) + pitching['wp'])"
   ]
  },
  {
   "cell_type": "code",
   "execution_count": 19,
   "metadata": {},
   "outputs": [],
   "source": [
    "# created fielding percentage column\n",
    "fielding['fp%'] = ((fielding['po']+fielding['a']) / (fielding['po']+fielding['a']+fielding['e']))"
   ]
  },
  {
   "cell_type": "code",
   "execution_count": 20,
   "metadata": {},
   "outputs": [],
   "source": [
    "# created range fielding per game column\n",
    "fielding['rf/g'] = (fielding['po']+fielding['a']) / fielding['g']"
   ]
  },
  {
   "cell_type": "code",
   "execution_count": 21,
   "metadata": {},
   "outputs": [],
   "source": [
    "# created walks plus hits per inning pitched\n",
    "pitching['whip'] = (pitching['bb']+pitching['h']) / (3*pitching['ipouts'])"
   ]
  },
  {
   "cell_type": "code",
   "execution_count": 22,
   "metadata": {},
   "outputs": [],
   "source": [
    "#round batting average down to 3 significant digits to better group players\n",
    "batting = round(batting, 3)\n",
    "pitching = round(pitching, 3)\n",
    "fielding = round(fielding, 3)"
   ]
  },
  {
   "cell_type": "code",
   "execution_count": 23,
   "metadata": {},
   "outputs": [],
   "source": [
    "#replace bats and throws with numbers\n",
    "players['bats'].replace({'R':1, 'L':2, 'B':3,}, inplace=True)\n",
    "players['throws'].replace({'R':1, 'L':2, 'S':4}, inplace=True)"
   ]
  },
  {
   "cell_type": "code",
   "execution_count": 24,
   "metadata": {},
   "outputs": [],
   "source": [
    "# We only need certain data from player dataset\n",
    "# Right =1\n",
    "# Left =2\n",
    "#Both =3\n",
    "#S =4 : find what s means\n",
    "players = players.groupby('playerid').sum()\n",
    "players = players[['weight', 'height', 'bats', 'throws']]"
   ]
  },
  {
   "cell_type": "markdown",
   "metadata": {},
   "source": [
    "## We need major league baseball data!"
   ]
  },
  {
   "cell_type": "markdown",
   "metadata": {},
   "source": [
    "I realized while doing eda that there is minor league and alternative league stats for players. While this is cool to have, we don't need it for the scope of this project. So I will create new datasets with just the NL and AL league ids."
   ]
  },
  {
   "cell_type": "code",
   "execution_count": 25,
   "metadata": {},
   "outputs": [],
   "source": [
    "batting_al = batting[batting['lgid'] == 'AL']\n",
    "batting_nl = batting[batting['lgid'] == 'NL']\n",
    "batting = pd.concat([batting_al, batting_nl], axis=0)"
   ]
  },
  {
   "cell_type": "code",
   "execution_count": 26,
   "metadata": {},
   "outputs": [],
   "source": [
    "pitching_al = pitching[pitching['lgid'] == 'AL']\n",
    "pitching_nl = pitching[pitching['lgid'] == 'NL']\n",
    "pitching = pd.concat([pitching_al, pitching_nl], axis=0)"
   ]
  },
  {
   "cell_type": "code",
   "execution_count": 27,
   "metadata": {},
   "outputs": [],
   "source": [
    "fielding_al = fielding[fielding['lgid'] == 'AL']\n",
    "fielding_nl = fielding[fielding['lgid'] == 'NL']\n",
    "fielding = pd.concat([fielding_al, fielding_nl], axis=0)"
   ]
  },
  {
   "cell_type": "code",
   "execution_count": 28,
   "metadata": {},
   "outputs": [],
   "source": [
    "teams_al = teams[teams['lgid'] == 'AL']\n",
    "teams_nl = teams[teams['lgid'] == 'NL']\n",
    "teams_mlb = pd.concat([teams_al, teams_nl], axis=0).shape"
   ]
  },
  {
   "cell_type": "code",
   "execution_count": 29,
   "metadata": {},
   "outputs": [],
   "source": [
    "salaries_al = salaries[salaries['lgid'] == 'AL']\n",
    "salaries_nl = salaries[salaries['lgid'] == 'NL']\n",
    "salaries = pd.concat([salaries_al, salaries_nl], axis=0)"
   ]
  },
  {
   "cell_type": "markdown",
   "metadata": {},
   "source": [
    "The players individual data doesn't include teams they played for, which is fine because this dataset will be used to reference player height and weight stats."
   ]
  },
  {
   "cell_type": "markdown",
   "metadata": {},
   "source": [
    "## Let's create some new datasets for career stats and stats by year and stats for player by year"
   ]
  },
  {
   "cell_type": "markdown",
   "metadata": {},
   "source": [
    "### Batting"
   ]
  },
  {
   "cell_type": "code",
   "execution_count": 30,
   "metadata": {},
   "outputs": [],
   "source": [
    "batters = batting.groupby('playerid').sum()\n",
    "batters.drop(columns=(['year', 'bavg', 'obp', 'ops', 'slg','period']), inplace=True)\n",
    "batters['years'] = batting.groupby('playerid')['year'].count()\n",
    "batters['period'] = batting.groupby('playerid')['period'].mean()\n",
    "batters['bavg'] = batting.groupby('playerid')['bavg'].mean()\n",
    "batters['obp'] = batting.groupby('playerid')['obp'].mean()\n",
    "batters['ops'] = batting.groupby('playerid')['ops'].mean()\n",
    "batters['slg'] = batting.groupby('playerid')['slg'].mean()\n",
    "batters = round(batters, 3)"
   ]
  },
  {
   "cell_type": "code",
   "execution_count": 31,
   "metadata": {},
   "outputs": [],
   "source": [
    "batting_year = batting.groupby('year').sum()\n",
    "batting_year.drop(columns=(['bavg', 'obp', 'ops', 'slg', 'period']), inplace=True)\n",
    "batting_year['period'] = batting.groupby('year')['period'].mean()\n",
    "batting_year['bavg'] = batting.groupby('year')['bavg'].mean()\n",
    "batting_year['obp'] = batting.groupby('year')['obp'].mean()\n",
    "batting_year['ops'] = batting.groupby('year')['ops'].mean()\n",
    "batting_year['slg'] = batting.groupby('year')['slg'].mean()\n",
    "batting_year = round(batting_year, 3)"
   ]
  },
  {
   "cell_type": "code",
   "execution_count": 32,
   "metadata": {},
   "outputs": [],
   "source": [
    "batters_years = batting.groupby(['playerid', 'year']).sum()\n",
    "batters_years.drop(columns=(['bavg', 'obp', 'ops', 'slg', 'period']), inplace=True)\n",
    "batters_years['period'] = batting.groupby(['playerid', 'year'])['period'].mean()\n",
    "batters_years['bavg'] = batting.groupby(['playerid', 'year'])['bavg'].mean()\n",
    "batters_years['obp'] = batting.groupby(['playerid', 'year'])['obp'].mean()\n",
    "batters_years['ops'] = batting.groupby(['playerid', 'year'])['ops'].mean()\n",
    "batters_years['slg'] = batting.groupby(['playerid', 'year'])['slg'].mean()\n",
    "batters_years = round(batters_years, 3)"
   ]
  },
  {
   "cell_type": "code",
   "execution_count": 33,
   "metadata": {},
   "outputs": [],
   "source": [
    "batting_team = batting.groupby(['teamid']).sum()\n",
    "batting_team.drop(columns=['year', 'bavg', 'obp', 'ops', 'slg', 'period'], inplace=True)\n",
    "batting_team['period'] = batting.groupby('teamid')['period'].mean()\n",
    "batting_team['bavg'] = batting.groupby('teamid')['bavg'].mean()\n",
    "batting_team['obp'] = batting.groupby('teamid')['obp'].mean()\n",
    "batting_team['ops'] = batting.groupby('teamid')['ops'].mean()\n",
    "batting_team['slg'] = batting.groupby('teamid')['slg'].mean()\n",
    "batting_team = round(batting_team, 3)"
   ]
  },
  {
   "cell_type": "code",
   "execution_count": 34,
   "metadata": {},
   "outputs": [],
   "source": [
    "batting_team_year = batting.groupby(['teamid', 'year']).sum()\n",
    "batting_team_year.drop(columns=['bavg', 'obp', 'ops', 'slg', 'period'], inplace=True)\n",
    "batting_team_year['period'] = batting.groupby(['teamid', 'year'])['period'].mean()\n",
    "batting_team_year['bavg'] = batting.groupby(['teamid', 'year'])['bavg'].mean()\n",
    "batting_team_year['obp'] = batting.groupby(['teamid', 'year'])['obp'].mean()\n",
    "batting_team_year['ops'] = batting.groupby(['teamid', 'year'])['ops'].mean()\n",
    "batting_team_year['slg'] = batting.groupby(['teamid', 'year'])['slg'].mean()\n",
    "batting_team_year = round(batting_team_year,3)"
   ]
  },
  {
   "cell_type": "markdown",
   "metadata": {},
   "source": [
    "### Pitching"
   ]
  },
  {
   "cell_type": "code",
   "execution_count": 35,
   "metadata": {},
   "outputs": [],
   "source": [
    "pitchers = pitching.groupby('playerid').sum()\n",
    "pitchers.drop(columns=(['year', 'era', 'whip', 'period']), inplace=True)\n",
    "pitchers['years'] = pitching.groupby('playerid')['year'].count()\n",
    "pitchers['period'] = pitching.groupby('playerid')['period'].mean()\n",
    "pitchers['era'] = pitching.groupby('playerid')['era'].mean()\n",
    "pitchers['whip'] = pitching.groupby('playerid')['whip'].mean()\n",
    "pitchers = round(pitchers, 3)"
   ]
  },
  {
   "cell_type": "code",
   "execution_count": 36,
   "metadata": {},
   "outputs": [],
   "source": [
    "pitching_year = pitching.groupby('year').sum()\n",
    "pitching_year.drop(columns=(['era','whip', 'period']), inplace=True)\n",
    "pitching_year['period'] = pitching.groupby('year')['period'].mean()\n",
    "pitching_year['era'] = pitching.groupby('year')['era'].mean()\n",
    "pitching_year['whip'] = pitching.groupby('year')['whip'].mean()\n",
    "pitching_year = round(pitching_year, 3)"
   ]
  },
  {
   "cell_type": "code",
   "execution_count": 37,
   "metadata": {},
   "outputs": [],
   "source": [
    "pitchers_years = pitching.groupby(['playerid', 'year']).sum()\n",
    "pitchers_years.drop(columns=(['era','whip', 'period']), inplace=True)\n",
    "pitchers_years['era'] = pitching.groupby(['playerid', 'year'])['era'].mean()\n",
    "pitchers_years['period'] = pitching.groupby(['playerid', 'year'])['period'].mean()\n",
    "pitchers_years['era'] = pitching.groupby(['playerid', 'year'])['whip'].mean()\n",
    "pitchers_years = round(pitchers_years, 3)"
   ]
  },
  {
   "cell_type": "code",
   "execution_count": 38,
   "metadata": {},
   "outputs": [],
   "source": [
    "pitching_team = pitching.groupby(['teamid']).sum()\n",
    "pitching_team.drop(columns=['year', 'era', 'whip', 'period'], inplace=True)\n",
    "pitching_team['era'] = pitching.groupby('teamid')['era'].mean()\n",
    "pitching_team['period'] = pitching.groupby('teamid')['period'].mean()\n",
    "pitching_team['whip'] = pitching.groupby('teamid')['whip'].mean()\n",
    "pitching_team = round(pitching_team, 3)"
   ]
  },
  {
   "cell_type": "code",
   "execution_count": 39,
   "metadata": {},
   "outputs": [],
   "source": [
    "pitching_team_year = pitching.groupby(['teamid', 'year']).sum()\n",
    "pitching_team_year.drop(columns=['era', 'whip', 'period'], inplace=True)\n",
    "pitching_team_year['era'] = pitching.groupby(['teamid', 'year'])['era'].mean()\n",
    "pitching_team_year['period'] = pitching.groupby(['teamid', 'year'])['period'].mean()\n",
    "pitching_team_year['whip'] = pitching.groupby(['teamid', 'year'])['whip'].mean()\n",
    "pitching_team_year = round(pitching_team_year,3)"
   ]
  },
  {
   "cell_type": "markdown",
   "metadata": {},
   "source": [
    "### Fielding"
   ]
  },
  {
   "cell_type": "code",
   "execution_count": 40,
   "metadata": {},
   "outputs": [],
   "source": [
    "fielders = fielding.groupby('playerid').sum()\n",
    "fielders.drop(columns=(['year', 'fp%', 'rf/g','period']), inplace=True)\n",
    "fielders['years'] = fielding.groupby('playerid')['year'].count()\n",
    "fielders['period'] = fielding.groupby('playerid')['period'].mean()\n",
    "fielders['fp%'] = fielding.groupby('playerid')['fp%'].mean()\n",
    "fielders['rf/g'] = fielding.groupby('playerid')['rf/g'].mean()\n",
    "fielders.fillna(value=0, inplace=True)"
   ]
  },
  {
   "cell_type": "code",
   "execution_count": 41,
   "metadata": {},
   "outputs": [],
   "source": [
    "fielding_year = fielding.groupby(['year']).sum()\n",
    "fielding_year.drop(['fp%', 'rf/g', 'period'], axis=1, inplace=True)\n",
    "fielding_year['fp%'] = fielding.groupby('year')['fp%'].mean()\n",
    "fielding_year['period'] = fielding.groupby('year')['period'].mean()\n",
    "fielding_year['rf/g'] = fielding.groupby('year')['rf/g'].mean()\n",
    "fielding_year.fillna(value=0, inplace=True)"
   ]
  },
  {
   "cell_type": "code",
   "execution_count": 42,
   "metadata": {},
   "outputs": [],
   "source": [
    "fielders_years = fielding.groupby(['playerid', 'year']).sum()\n",
    "fielders_years.drop(['fp%', 'rf/g','period'], axis=1, inplace=True)\n",
    "fielders_years['fp%'] = fielding.groupby(['playerid','year'])['fp%'].mean()\n",
    "fielders_years['period'] = fielding.groupby(['playerid', 'year'])['period'].mean()\n",
    "fielders_years['rf/g'] = fielding.groupby(['playerid','year'])['rf/g'].mean()\n",
    "fielders_years.fillna(value=0, inplace=True)"
   ]
  },
  {
   "cell_type": "code",
   "execution_count": 43,
   "metadata": {},
   "outputs": [],
   "source": [
    "fielding_team = fielding.groupby(['teamid']).sum()\n",
    "fielding_team.drop(columns=['year', 'fp%', 'rf/g','period'], inplace=True)\n",
    "fielding_team['fp%'] = fielding.groupby('teamid')['fp%'].mean()\n",
    "fielding_team['period'] = fielding.groupby('teamid')['period'].mean()\n",
    "fielding_team['rf/g'] = fielding.groupby('teamid')['rf/g'].mean()\n",
    "fielding_team = round(fielding_team, 3)"
   ]
  },
  {
   "cell_type": "code",
   "execution_count": 44,
   "metadata": {},
   "outputs": [],
   "source": [
    "fielding_team_year = fielding.groupby(['teamid', 'year', 'period']).sum()\n",
    "fielding_team_year.drop(columns=['fp%', 'rf/g'], inplace=True)\n",
    "fielding_team_year['fp%'] = fielding.groupby(['teamid', 'year'])['fp%'].mean()\n",
    "fielding_team_year['period'] = fielding.groupby(['teamid', 'year'])['period'].mean()\n",
    "fielding_team_year['rf/g'] = fielding.groupby(['teamid', 'year'])['rf/g'].mean()\n",
    "fielding_team_year = round(fielding_team_year,3)"
   ]
  },
  {
   "cell_type": "code",
   "execution_count": 45,
   "metadata": {},
   "outputs": [],
   "source": [
    "import datetime\n",
    "now = str(datetime.datetime.now())[:10]"
   ]
  },
  {
   "cell_type": "code",
   "execution_count": 46,
   "metadata": {},
   "outputs": [],
   "source": [
    "batting.to_csv('./data/data/batting', index=True)\n",
    "batters.to_csv('./data/data/batters', index=True)\n",
    "batting_year.to_csv('./data/data/batting_year', index=True)\n",
    "batters_years.to_csv('./data/data/batters_years', index=True)\n",
    "batting_team.to_csv('./data/data/batting_team', index=True)\n",
    "batting_team_year.to_csv('./data/data/batting_team_year', index=True)\n",
    "\n",
    "pitching.to_csv('./data/data/pitching', index=True)\n",
    "pitchers.to_csv('./data/data/pitchers', index=True)\n",
    "pitching_year.to_csv('./data/data/pitching_year', index=True)\n",
    "pitchers_years.to_csv('./data/data/pitchers_years', index=True)\n",
    "pitching_team.to_csv('./data/data/pitching_team', index=True)\n",
    "pitching_team_year.to_csv('./data/data/pitching_team_year', index=True)\n",
    "\n",
    "fielding.to_csv('./data/data/fielding', index=True)\n",
    "fielders.to_csv('./data/data/fielders', index=True)\n",
    "fielding_year.to_csv('./data/data/fielding_year', index=True)\n",
    "fielders_years.to_csv('./data/data/fielders_years', index=True)\n",
    "fielding_team.to_csv('./data/data/fielding_team', index=True)\n",
    "fielding_team_year.to_csv('./data/data/fielding_team_year', index=True)"
   ]
  }
 ],
 "metadata": {
  "kernelspec": {
   "display_name": "Python 3",
   "language": "python",
   "name": "python3"
  },
  "language_info": {
   "codemirror_mode": {
    "name": "ipython",
    "version": 3
   },
   "file_extension": ".py",
   "mimetype": "text/x-python",
   "name": "python",
   "nbconvert_exporter": "python",
   "pygments_lexer": "ipython3",
   "version": "3.6.5"
  }
 },
 "nbformat": 4,
 "nbformat_minor": 2
}
